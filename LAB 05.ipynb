{
 "cells": [
  {
   "cell_type": "code",
   "execution_count": 8,
   "id": "9047dd5b",
   "metadata": {},
   "outputs": [
    {
     "name": "stdout",
     "output_type": "stream",
     "text": [
      "Enter the size of list : 3\n",
      "4\n",
      "3\n",
      "5\n",
      "[4, 3, 5]\n",
      "[4, 3]\n"
     ]
    }
   ],
   "source": [
    "l=[]\n",
    "n=int(input(\"Enter the size of list : \"))\n",
    "for i in range(n):\n",
    "    x=int(input())\n",
    "    l.append(x)\n",
    "print(l)\n",
    "l.remove(5)\n",
    "print(l)"
   ]
  },
  {
   "cell_type": "code",
   "execution_count": 3,
   "id": "74c67afa",
   "metadata": {},
   "outputs": [
    {
     "name": "stdout",
     "output_type": "stream",
     "text": [
      "[1, 2, 3, 4, 5, 6, 7, 8, 9]\n",
      "[1, 2, 3, 4, 5]\n",
      "[6, 7, 8, 9]\n",
      "[3, 4, 5, 6]\n"
     ]
    }
   ],
   "source": [
    "l = [1,2,3,4,5,6,7,8,9]\n",
    "print(l[:])\n",
    "print(l[:5])\n",
    "print(l[5:])\n",
    "print(l[2:6])"
   ]
  },
  {
   "cell_type": "code",
   "execution_count": 9,
   "id": "c4d1beb0",
   "metadata": {},
   "outputs": [
    {
     "name": "stdout",
     "output_type": "stream",
     "text": [
      "[1, 2]\n",
      "[1, 2, 3]\n",
      "[1, 2, 3, 4, 5]\n",
      "[0, 1, 2, 3, 4, 5]\n",
      "[0, 1, 2, 3, 4]\n",
      "[0, 1, 2, 3]\n",
      "[]\n",
      "2\n",
      "4\n",
      "[3, 2, 1, 0]\n"
     ]
    }
   ],
   "source": [
    "l = [1,2]\n",
    "print(l)\n",
    "l.append(3)\n",
    "print(l)\n",
    "m = [4,5]\n",
    "l.extend(m)\n",
    "print(l)\n",
    "l.insert(0,0)\n",
    "print(l)\n",
    "l.remove(5)\n",
    "print(l)\n",
    "l.pop()\n",
    "print(l)\n",
    "m.clear()\n",
    "print(m)\n",
    "print(l.index(2))\n",
    "n=[1,0,0,1,1,0,1]\n",
    "print(n.count(1))\n",
    "l.sort(reverse=True)\n",
    "print(l)"
   ]
  },
  {
   "cell_type": "code",
   "execution_count": 13,
   "id": "347f55e1",
   "metadata": {},
   "outputs": [
    {
     "name": "stdout",
     "output_type": "stream",
     "text": [
      "[5, 4, 3, 2, 1]\n",
      "[5, 4, 3, 2, 1]\n"
     ]
    }
   ],
   "source": [
    "l=[1,2,3,4,5]\n",
    "l.reverse()\n",
    "print(l)\n",
    "m=l.copy()\n",
    "print(m)"
   ]
  },
  {
   "cell_type": "code",
   "execution_count": 14,
   "id": "3060fc67",
   "metadata": {},
   "outputs": [
    {
     "name": "stdout",
     "output_type": "stream",
     "text": [
      "[2, 2, 2]\n",
      "[2, 2, 2]\n",
      "[2, 2, 2]\n"
     ]
    }
   ],
   "source": [
    "l1=[[1,1,1],[1,1,1],[1,1,1]]\n",
    "l2=[[1,1,1],[1,1,1],[1,1,1]]\n",
    "s=[[0,0,0],[0,0,0],[0,0,0]]\n",
    "for i in range(len(l1)):\n",
    "    for j in range(len(l1[0])):\n",
    "        s[i][j] = l1[i][j] + l2[i][j]\n",
    "for k in s:\n",
    "    print(k)"
   ]
  },
  {
   "cell_type": "code",
   "execution_count": 19,
   "id": "325e54c4",
   "metadata": {},
   "outputs": [
    {
     "name": "stdout",
     "output_type": "stream",
     "text": [
      "{'name': 'Dhanush', 'age': 18}\n",
      "{'name': 'Dhanush', 'age': 18, 'Semester': 4}\n",
      "Dhanush\n",
      "{'name': 'Dhanush', 'Semester': 4}\n"
     ]
    }
   ],
   "source": [
    "d={\"name\": \"Dhanush\",\"age\":18}\n",
    "print(d)\n",
    "d[\"Semester\"]= 4\n",
    "print(d)\n",
    "print(d[\"name\"])\n",
    "del d[\"age\"]\n",
    "print(d)"
   ]
  },
  {
   "cell_type": "code",
   "execution_count": 33,
   "id": "3fccd918",
   "metadata": {},
   "outputs": [
    {
     "name": "stdout",
     "output_type": "stream",
     "text": [
      "{}\n",
      "{'name': 'Dhanush', 'age': 18}\n",
      "{'a': 'vowel', 'e': 'vowel', 'u': 'vowel', 'o': 'vowel', 'i': 'vowel'}\n",
      "Dhanush\n",
      "dict_items([('name', 'Dhanush'), ('age', 18)])\n",
      "dict_keys(['name', 'age'])\n",
      "{'name': 'Dhanush'}\n",
      "{}\n"
     ]
    }
   ],
   "source": [
    "d1={\"name\": \"Dhanush\",\"age\":18}\n",
    "d2={\"name\": \"Ram\",\"age\":20}\n",
    "d2.clear()\n",
    "print(d2)\n",
    "d2=d1.copy()\n",
    "print(d2)\n",
    "keys = {'a', 'e', 'i', 'o', 'u' }\n",
    "value = 'vowel'\n",
    "vowels = dict.fromkeys(keys, value)\n",
    "print(vowels)\n",
    "x=d1.get(\"name\")\n",
    "print(x)\n",
    "print(d1.items())\n",
    "print(d1.keys())\n",
    "d1.pop(\"age\")\n",
    "print(d1)\n",
    "d1.popitem()\n",
    "print(d1)"
   ]
  },
  {
   "cell_type": "code",
   "execution_count": 37,
   "id": "0efcf8fe",
   "metadata": {},
   "outputs": [
    {
     "name": "stdout",
     "output_type": "stream",
     "text": [
      "25\n",
      "{'name': 'apple', 'cost': 25}\n",
      "{'name': 'apple', 'cost': 25, 'colour': 'red'}\n",
      "dict_values(['apple', 25, 'red'])\n"
     ]
    }
   ],
   "source": [
    "d = {\"name\": 'apple'}\n",
    "x = d.setdefault(\"cost\",25)\n",
    "print(x)\n",
    "print(d)\n",
    "d.update({\"colour\":'red'})\n",
    "print(d)\n",
    "print(d.values())"
   ]
  },
  {
   "cell_type": "code",
   "execution_count": 10,
   "id": "07f64228",
   "metadata": {},
   "outputs": [
    {
     "name": "stdout",
     "output_type": "stream",
     "text": [
      "P\n",
      "Python Coding\n"
     ]
    }
   ],
   "source": [
    "s = \"Python_Coding\"\n",
    "print(s[0])\n",
    "s=s.replace('_',' ')\n",
    "print(s)"
   ]
  },
  {
   "cell_type": "code",
   "execution_count": 17,
   "id": "f324eb55",
   "metadata": {},
   "outputs": [
    {
     "name": "stdout",
     "output_type": "stream",
     "text": [
      "Enter the string : mom\n",
      "It is a palindrome\n"
     ]
    }
   ],
   "source": [
    "def ispalindrome(s):\n",
    "    return s == s[::-1]\n",
    "s=input(\"Enter the string : \")\n",
    "temp=ispalindrome(s)\n",
    "if(temp):\n",
    "    print(\"It is a palindrome\")\n",
    "else:\n",
    "    print(\"It is not a palindrome\")"
   ]
  },
  {
   "cell_type": "code",
   "execution_count": 18,
   "id": "831df9ec",
   "metadata": {},
   "outputs": [
    {
     "name": "stdout",
     "output_type": "stream",
     "text": [
      "Python\n"
     ]
    }
   ],
   "source": [
    "import string\n",
    "s=\"P,y,t,h,o,n\"\n",
    "s = s.translate(str.maketrans('','', string.punctuation))\n",
    "print(s)"
   ]
  },
  {
   "cell_type": "code",
   "execution_count": 24,
   "id": "c07609ce",
   "metadata": {},
   "outputs": [
    {
     "name": "stdout",
     "output_type": "stream",
     "text": [
      "qwertyuiopasdfghjklzxcvbnm\n",
      "abcdefghijklmnopqrstuvwxyz\n"
     ]
    }
   ],
   "source": [
    "s=input()\n",
    "s=''.join(sorted(s))\n",
    "print(s)"
   ]
  },
  {
   "cell_type": "code",
   "execution_count": null,
   "id": "b5aa3555",
   "metadata": {},
   "outputs": [],
   "source": []
  }
 ],
 "metadata": {
  "kernelspec": {
   "display_name": "Python 3 (ipykernel)",
   "language": "python",
   "name": "python3"
  },
  "language_info": {
   "codemirror_mode": {
    "name": "ipython",
    "version": 3
   },
   "file_extension": ".py",
   "mimetype": "text/x-python",
   "name": "python",
   "nbconvert_exporter": "python",
   "pygments_lexer": "ipython3",
   "version": "3.9.13"
  }
 },
 "nbformat": 4,
 "nbformat_minor": 5
}
